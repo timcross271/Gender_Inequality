{
 "cells": [
  {
   "cell_type": "code",
   "execution_count": 217,
   "metadata": {},
   "outputs": [],
   "source": [
    "import pandas as pd\n",
    "import seaborn as sns\n",
    "import matplotlib.pyplot as pl\n",
    "\n",
    "from sklearn.model_selection import train_test_split\n",
    "from sklearn.tree import DecisionTreeRegressor\n",
    "from sklearn.ensemble import RandomForestRegressor\n",
    "from sklearn.ensemble import HistGradientBoostingRegressor\n",
    "import xgboost as xgb\n",
    "from sklearn.neural_network import MLPRegressor\n",
    "from sklearn.linear_model import LinearRegression\n",
    "from sklearn.linear_model import Ridge \n",
    "from sklearn.linear_model import Lasso\n",
    "\n",
    "\n",
    "from sklearn.metrics import mean_squared_error\n",
    "from sklearn.metrics import r2_score\n",
    "from sklearn.preprocessing import StandardScaler\n",
    "from sklearn_pandas import DataFrameMapper\n",
    "from sklearn.model_selection import GridSearchCV\n",
    "from sklearn.decomposition import PCA\n",
    "from skopt import BayesSearchCV\n"
   ]
  },
  {
   "cell_type": "markdown",
   "metadata": {},
   "source": [
    "Load data file into dataframe."
   ]
  },
  {
   "cell_type": "code",
   "execution_count": 218,
   "metadata": {},
   "outputs": [],
   "source": [
    "df=pd.read_csv('Data/wb_gender_data_cleaned.csv')"
   ]
  },
  {
   "cell_type": "markdown",
   "metadata": {},
   "source": [
    "Split the data into X as features, and y as the target variable."
   ]
  },
  {
   "cell_type": "code",
   "execution_count": 219,
   "metadata": {},
   "outputs": [],
   "source": [
    "X = df.drop(['Country Name','Female share of employment in senior and middle management (%)'],axis=1)\n"
   ]
  },
  {
   "cell_type": "markdown",
   "metadata": {},
   "source": [
    "X2 was created by standardsing the data."
   ]
  },
  {
   "cell_type": "code",
   "execution_count": 220,
   "metadata": {},
   "outputs": [],
   "source": [
    "mapper = DataFrameMapper([(X.columns, StandardScaler())])\n",
    "scaled_features = mapper.fit_transform(X.copy())\n",
    "X2 = pd.DataFrame(scaled_features, index=X.index, columns=X.columns)"
   ]
  },
  {
   "cell_type": "markdown",
   "metadata": {},
   "source": [
    "X3 is a version with a reduced number of columns."
   ]
  },
  {
   "cell_type": "code",
   "execution_count": 221,
   "metadata": {},
   "outputs": [],
   "source": [
    "X3 = X.iloc[:,:20]"
   ]
  },
  {
   "cell_type": "markdown",
   "metadata": {},
   "source": [
    "I used Principal component analysis (PCA) to create a dataset with a reduced number of features. This was created to try to reduce the amount of overfitting in the ML models."
   ]
  },
  {
   "cell_type": "code",
   "execution_count": 276,
   "metadata": {},
   "outputs": [],
   "source": [
    "pca = PCA(n_components=10).set_output(transform=\"pandas\")\n",
    "pca.fit(X2)\n",
    "X4 = pca.transform(X2)"
   ]
  },
  {
   "cell_type": "code",
   "execution_count": 277,
   "metadata": {},
   "outputs": [
    {
     "data": {
      "text/plain": [
       "pca0    60.637176\n",
       "pca1    27.423540\n",
       "pca2    13.487082\n",
       "pca3     7.991272\n",
       "pca4     5.698458\n",
       "pca5     5.331281\n",
       "pca6     3.889998\n",
       "pca7     3.656169\n",
       "pca8     3.039923\n",
       "pca9     2.723071\n",
       "dtype: float64"
      ]
     },
     "execution_count": 277,
     "metadata": {},
     "output_type": "execute_result"
    }
   ],
   "source": [
    "X4_var = X4.var(axis=0)\n",
    "X4_var"
   ]
  },
  {
   "cell_type": "markdown",
   "metadata": {},
   "source": [
    "After analysing the variances of the PCA features, it appeared that after 10 features no sifnificant information was gained."
   ]
  },
  {
   "cell_type": "code",
   "execution_count": 278,
   "metadata": {},
   "outputs": [
    {
     "data": {
      "text/plain": [
       "Text(0, 0.5, 'Variance')"
      ]
     },
     "execution_count": 278,
     "metadata": {},
     "output_type": "execute_result"
    },
    {
     "data": {
      "image/png": "[encoded data removed]",
      "text/plain": [
       "<Figure size 1080x432 with 1 Axes>"
      ]
     },
     "metadata": {
      "needs_background": "light"
     },
     "output_type": "display_data"
    }
   ],
   "source": [
    "pl.subplots(1,1,figsize=(15,6))\n",
    "pl.plot(X4_var[:40])\n",
    "pl.ylabel(\"Variance\")\n",
    "# pl.savefig('Plots/PCA.pdf')"
   ]
  },
  {
   "cell_type": "markdown",
   "metadata": {},
   "source": [
    "y was created with the target variable."
   ]
  },
  {
   "cell_type": "code",
   "execution_count": 225,
   "metadata": {},
   "outputs": [],
   "source": [
    "y = df['Female share of employment in senior and middle management (%)']"
   ]
  },
  {
   "cell_type": "markdown",
   "metadata": {},
   "source": [
    "### Split the data further into train and test data."
   ]
  },
  {
   "cell_type": "markdown",
   "metadata": {},
   "source": [
    "Original data."
   ]
  },
  {
   "cell_type": "code",
   "execution_count": 226,
   "metadata": {},
   "outputs": [],
   "source": [
    "X_train, X_test, y_train, y_test = train_test_split(X, y, test_size=0.3, random_state=10)"
   ]
  },
  {
   "cell_type": "markdown",
   "metadata": {},
   "source": [
    "Standardised data."
   ]
  },
  {
   "cell_type": "code",
   "execution_count": 227,
   "metadata": {},
   "outputs": [],
   "source": [
    "X2_train, X2_test, y2_train, y2_test = train_test_split(X2, y, test_size=0.3, random_state=10)"
   ]
  },
  {
   "cell_type": "markdown",
   "metadata": {},
   "source": [
    "Reduced data."
   ]
  },
  {
   "cell_type": "code",
   "execution_count": 228,
   "metadata": {},
   "outputs": [],
   "source": [
    "X3_train, X3_test, y3_train, y3_test = train_test_split(X3, y, test_size=0.3,random_state=10)"
   ]
  },
  {
   "cell_type": "markdown",
   "metadata": {},
   "source": [
    "Data with features created using PCA."
   ]
  },
  {
   "cell_type": "code",
   "execution_count": 229,
   "metadata": {},
   "outputs": [],
   "source": [
    "X4_train, X4_test, y4_train, y4_test = train_test_split(X4, y, test_size=0.3,random_state=10)"
   ]
  },
  {
   "cell_type": "markdown",
   "metadata": {},
   "source": [
    "### Decision Tree"
   ]
  },
  {
   "cell_type": "code",
   "execution_count": 230,
   "metadata": {},
   "outputs": [],
   "source": [
    "dtr = DecisionTreeRegressor(random_state=0)\n",
    "dtr.fit(X_train,y_train)\n",
    "y_pred_dtr = dtr.predict(X_test)\n",
    "\n",
    "r2_dtr = r2_score(y_test, y_pred_dtr)\n",
    "mse_dtr = mean_squared_error(y_test,y_pred_dtr)"
   ]
  },
  {
   "cell_type": "code",
   "execution_count": 231,
   "metadata": {},
   "outputs": [
    {
     "data": {
      "text/html": [
       "<div>\n",
       "<style scoped>\n",
       "    .dataframe tbody tr th:only-of-type {\n",
       "        vertical-align: middle;\n",
       "    }\n",
       "\n",
       "    .dataframe tbody tr th {\n",
       "        vertical-align: top;\n",
       "    }\n",
       "\n",
       "    .dataframe thead th {\n",
       "        text-align: right;\n",
       "    }\n",
       "</style>\n",
       "<table border=\"1\" class=\"dataframe\">\n",
       "  <thead>\n",
       "    <tr style=\"text-align: right;\">\n",
       "      <th></th>\n",
       "      <th>Features</th>\n",
       "    </tr>\n",
       "  </thead>\n",
       "  <tbody>\n",
       "    <tr>\n",
       "      <th>Number of infant deaths, male</th>\n",
       "      <td>0.174070</td>\n",
       "    </tr>\n",
       "    <tr>\n",
       "      <th>Population, female (% of total)</th>\n",
       "      <td>0.166587</td>\n",
       "    </tr>\n",
       "    <tr>\n",
       "      <th>Life expectancy at birth, total (years)</th>\n",
       "      <td>0.162253</td>\n",
       "    </tr>\n",
       "    <tr>\n",
       "      <th>Labor force participation rate, total (% of total population ages 15+) (national estimate)</th>\n",
       "      <td>0.115471</td>\n",
       "    </tr>\n",
       "    <tr>\n",
       "      <th>A woman can work in a job deemed dangerous in the same way as a man (1=yes; 0=no)</th>\n",
       "      <td>0.091861</td>\n",
       "    </tr>\n",
       "    <tr>\n",
       "      <th>Population ages 65-69, male</th>\n",
       "      <td>0.045326</td>\n",
       "    </tr>\n",
       "    <tr>\n",
       "      <th>Population ages 0-14 (% of total)</th>\n",
       "      <td>0.044192</td>\n",
       "    </tr>\n",
       "    <tr>\n",
       "      <th>Life expectancy at age 60, female (years)</th>\n",
       "      <td>0.034651</td>\n",
       "    </tr>\n",
       "    <tr>\n",
       "      <th>GNI per capita, Atlas method (current US$)</th>\n",
       "      <td>0.029608</td>\n",
       "    </tr>\n",
       "    <tr>\n",
       "      <th>Employment to population ratio, 15+, total (%) (national estimate)</th>\n",
       "      <td>0.027634</td>\n",
       "    </tr>\n",
       "  </tbody>\n",
       "</table>\n",
       "</div>"
      ],
      "text/plain": [
       "                                                    Features\n",
       "Number of infant deaths, male                       0.174070\n",
       "Population, female (% of total)                     0.166587\n",
       "Life expectancy at birth, total (years)             0.162253\n",
       "Labor force participation rate, total (% of tot...  0.115471\n",
       "A woman can work in a job deemed dangerous in t...  0.091861\n",
       "Population ages 65-69, male                         0.045326\n",
       "Population ages 0-14 (% of total)                   0.044192\n",
       "Life expectancy at age 60, female (years)           0.034651\n",
       "GNI per capita, Atlas method (current US$)          0.029608\n",
       "Employment to population ratio, 15+, total (%) ...  0.027634"
      ]
     },
     "execution_count": 231,
     "metadata": {},
     "output_type": "execute_result"
    }
   ],
   "source": [
    "features = pd.DataFrame(dtr.feature_importances_, index = X.columns)\n",
    "features.columns = ['Features']\n",
    "features=features.sort_values(by='Features',ascending=False)\n",
    "features.head(10)"
   ]
  },
  {
   "cell_type": "code",
   "execution_count": 232,
   "metadata": {},
   "outputs": [],
   "source": [
    "dtr.fit(X_train,y_train)\n",
    "y_pred_dtr_tr = dtr.predict(X_train)\n",
    "r2_dtr_tr = r2_score(y_train, y_pred_dtr_tr)\n",
    "mse_dtr_tr = mean_squared_error(y_train,y_pred_dtr_tr)"
   ]
  },
  {
   "cell_type": "code",
   "execution_count": 233,
   "metadata": {},
   "outputs": [],
   "source": [
    "dtr.fit(X2_train,y2_train)\n",
    "y2_pred_dtr = dtr.predict(X2_test)\n",
    "r2_dtr2 = r2_score(y2_test, y2_pred_dtr)\n",
    "mse_dtr2 = mean_squared_error(y2_test,y2_pred_dtr)"
   ]
  },
  {
   "cell_type": "code",
   "execution_count": 234,
   "metadata": {},
   "outputs": [],
   "source": [
    "dtr.fit(X3_train,y3_train)\n",
    "y3_pred_dtr = dtr.predict(X3_test)\n",
    "r2_dtr3 = r2_score(y3_test, y3_pred_dtr)\n",
    "mse_dtr3 = mean_squared_error(y3_test,y3_pred_dtr)"
   ]
  },
  {
   "cell_type": "code",
   "execution_count": 235,
   "metadata": {},
   "outputs": [],
   "source": [
    "dtr.fit(X4_train,y4_train)\n",
    "y4_pred_dtr = dtr.predict(X4_test)\n",
    "r2_dtr4 = r2_score(y4_test, y4_pred_dtr)\n",
    "mse_dtr4 = mean_squared_error(y4_test,y4_pred_dtr)"
   ]
  },
  {
   "cell_type": "markdown",
   "metadata": {},
   "source": [
    "### Random Forest"
   ]
  },
  {
   "cell_type": "code",
   "execution_count": 236,
   "metadata": {},
   "outputs": [],
   "source": [
    "rfr = RandomForestRegressor(random_state=0)\n",
    "rfr.fit(X_train,y_train)\n",
    "y_pred_rfr = rfr.predict(X_test)\n",
    "r2_rfr = r2_score(y_test, y_pred_rfr)\n",
    "mse_rfr = mean_squared_error(y_test,y_pred_rfr)"
   ]
  },
  {
   "cell_type": "code",
   "execution_count": 237,
   "metadata": {},
   "outputs": [],
   "source": [
    "rfr.fit(X4_train,y4_train)\n",
    "y4_pred_rfr = rfr.predict(X4_test)\n",
    "r2_rfr4 = r2_score(y4_test, y4_pred_rfr)\n",
    "mse_rfr4 = mean_squared_error(y4_test,y4_pred_rfr)"
   ]
  },
  {
   "cell_type": "code",
   "execution_count": 238,
   "metadata": {},
   "outputs": [],
   "source": [
    "rfr.fit(X_train,y_train)\n",
    "y_pred_rfr_tr = rfr.predict(X_train)\n",
    "r2_rfr_tr = r2_score(y_train, y_pred_rfr_tr)\n",
    "mse_rfr_tr = mean_squared_error(y_train,y_pred_rfr_tr)"
   ]
  },
  {
   "cell_type": "markdown",
   "metadata": {},
   "source": [
    "### Histogram-based Gradient Boosting "
   ]
  },
  {
   "cell_type": "code",
   "execution_count": 239,
   "metadata": {},
   "outputs": [],
   "source": [
    "hist_b = HistGradientBoostingRegressor(random_state=0)\n",
    "hist_b.fit(X_train,y_train)\n",
    "y_pred_hist_b = hist_b.predict(X_test)\n",
    "r2_hist_b = r2_score(y_test, y_pred_hist_b)\n",
    "mse_hist_b = mean_squared_error(y_test,y_pred_hist_b)"
   ]
  },
  {
   "cell_type": "code",
   "execution_count": 240,
   "metadata": {},
   "outputs": [],
   "source": [
    "hist_b.fit(X_train,y_train)\n",
    "y_pred_hist_b_tr = hist_b.predict(X_train)\n",
    "r2_hist_b_tr = r2_score(y_train, y_pred_hist_b_tr)\n",
    "mse_hist_b_tr = mean_squared_error(y_train,y_pred_hist_b_tr)"
   ]
  },
  {
   "cell_type": "markdown",
   "metadata": {},
   "source": [
    "### XG Boost"
   ]
  },
  {
   "cell_type": "code",
   "execution_count": 241,
   "metadata": {},
   "outputs": [],
   "source": [
    "xg_b = xgb.XGBRegressor(random_state = 0)\n",
    "xg_b.fit(X_train,y_train)\n",
    "y_pred_xg_b = xg_b.predict(X_test)\n",
    "r2_xg_b = r2_score(y_test, y_pred_xg_b)\n",
    "mse_xg_b = mean_squared_error(y_test,y_pred_xg_b)"
   ]
  },
  {
   "cell_type": "code",
   "execution_count": 242,
   "metadata": {},
   "outputs": [],
   "source": [
    "xg_b.fit(X_train,y_train)\n",
    "y_pred_xg_b_tr = xg_b.predict(X_train)\n",
    "r2_xg_b_tr = r2_score(y_train, y_pred_xg_b_tr)\n",
    "mse_xg_b_tr = mean_squared_error(y_train,y_pred_xg_b_tr)"
   ]
  },
  {
   "cell_type": "code",
   "execution_count": 243,
   "metadata": {},
   "outputs": [],
   "source": [
    "xg_b.fit(X2_train,y2_train)\n",
    "y2_pred_xg_b = xg_b.predict(X2_test)\n",
    "r2_xg_b2 = r2_score(y2_test, y2_pred_xg_b)\n",
    "mse_xg_b2 = mean_squared_error(y2_test,y2_pred_xg_b)\n"
   ]
  },
  {
   "cell_type": "code",
   "execution_count": 244,
   "metadata": {},
   "outputs": [],
   "source": [
    "xg_b.fit(X3_train,y3_train)\n",
    "y3_pred_xg_b = xg_b.predict(X3_test)\n",
    "r2_xg_b3 = r2_score(y3_test, y3_pred_xg_b)\n",
    "mse_xg_b3 = mean_squared_error(y3_test,y3_pred_xg_b)\n"
   ]
  },
  {
   "cell_type": "code",
   "execution_count": 245,
   "metadata": {},
   "outputs": [],
   "source": [
    "xg_b.fit(X4_train,y4_train)\n",
    "y4_pred_xg_b = xg_b.predict(X4_test)\n",
    "r2_xg_b4 = r2_score(y4_test, y4_pred_xg_b)\n",
    "mse_xg_b4 = mean_squared_error(y4_test,y4_pred_xg_b)"
   ]
  },
  {
   "cell_type": "markdown",
   "metadata": {},
   "source": [
    "### Linear Regression"
   ]
  },
  {
   "cell_type": "code",
   "execution_count": 246,
   "metadata": {},
   "outputs": [],
   "source": [
    "lr = LinearRegression()\n",
    "lr.fit(X_train,y_train)\n",
    "y_pred_lr = lr.predict(X_train)\n",
    "r2_lr_tr = r2_score(y_train, y_pred_lr)\n",
    "mse_lr_tr = mean_squared_error(y_train,y_pred_lr)"
   ]
  },
  {
   "cell_type": "code",
   "execution_count": 247,
   "metadata": {},
   "outputs": [],
   "source": [
    "lr.fit(X_train,y_train)\n",
    "y_pred_lr = lr.predict(X_test)\n",
    "r2_lr = r2_score(y_test, y_pred_lr)\n",
    "mse_lr = mean_squared_error(y_test,y_pred_lr)"
   ]
  },
  {
   "cell_type": "code",
   "execution_count": 248,
   "metadata": {},
   "outputs": [],
   "source": [
    "lr.fit(X3_train,y3_train)\n",
    "y3_pred_lr = lr.predict(X3_test)\n",
    "r2_lr3 = r2_score(y3_test, y3_pred_lr)\n",
    "mse_lr3 = mean_squared_error(y3_test,y3_pred_lr)"
   ]
  },
  {
   "cell_type": "code",
   "execution_count": 249,
   "metadata": {},
   "outputs": [],
   "source": [
    "lr.fit(X4_train,y4_train)\n",
    "y4_pred_lr = lr.predict(X4_test)\n",
    "r2_lr4 = r2_score(y4_test, y4_pred_lr)\n",
    "mse_lr4 = mean_squared_error(y4_test,y4_pred_lr)"
   ]
  },
  {
   "cell_type": "markdown",
   "metadata": {},
   "source": [
    "### Ridge Regression"
   ]
  },
  {
   "cell_type": "code",
   "execution_count": 250,
   "metadata": {},
   "outputs": [
    {
     "name": "stderr",
     "output_type": "stream",
     "text": [
      "/Users/696556/miniconda3/lib/python3.9/site-packages/sklearn/linear_model/_ridge.py:254: UserWarning: Singular matrix in solving dual problem. Using least-squares solution instead.\n",
      "  warnings.warn(\n"
     ]
    }
   ],
   "source": [
    "rid = Ridge(random_state=10,alpha=0.1) \n",
    "rid.fit(X_train, y_train)\n",
    "y_pred_rid_tr = rid.predict(X_train) \n",
    "r2_rid_tr = r2_score(y_train, y_pred_rid_tr)\n",
    "mse_rid_tr = mean_squared_error(y_train,y_pred_rid_tr)"
   ]
  },
  {
   "cell_type": "code",
   "execution_count": 251,
   "metadata": {},
   "outputs": [
    {
     "name": "stderr",
     "output_type": "stream",
     "text": [
      "/Users/696556/miniconda3/lib/python3.9/site-packages/sklearn/linear_model/_ridge.py:254: UserWarning: Singular matrix in solving dual problem. Using least-squares solution instead.\n",
      "  warnings.warn(\n"
     ]
    }
   ],
   "source": [
    "rid.fit(X_train, y_train)\n",
    "y_pred_rid = rid.predict(X_test) \n",
    "r2_rid = r2_score(y_test, y_pred_rid)\n",
    "mse_rid = mean_squared_error(y_test,y_pred_rid)"
   ]
  },
  {
   "cell_type": "code",
   "execution_count": 252,
   "metadata": {},
   "outputs": [],
   "source": [
    "rid.fit(X3_train,y3_train)\n",
    "y3_pred_rid = rid.predict(X3_test)\n",
    "r2_rid3 = r2_score(y3_test, y3_pred_rid)\n",
    "mse_rid3 = mean_squared_error(y3_test,y3_pred_rid)"
   ]
  },
  {
   "cell_type": "code",
   "execution_count": 253,
   "metadata": {},
   "outputs": [],
   "source": [
    "rid.fit(X4_train,y4_train)\n",
    "y4_pred_rid = rid.predict(X4_test)\n",
    "r2_rid4 = r2_score(y4_test, y4_pred_rid)\n",
    "mse_rid4 = mean_squared_error(y4_test,y4_pred_rid)"
   ]
  },
  {
   "cell_type": "markdown",
   "metadata": {},
   "source": [
    "### Lasso Regression"
   ]
  },
  {
   "cell_type": "code",
   "execution_count": 254,
   "metadata": {},
   "outputs": [
    {
     "name": "stderr",
     "output_type": "stream",
     "text": [
      "/Users/696556/miniconda3/lib/python3.9/site-packages/sklearn/linear_model/_coordinate_descent.py:695: ConvergenceWarning: Objective did not converge. You might want to increase the number of iterations, check the scale of the features or consider increasing regularisation. Duality gap: 1.067e+03, tolerance: 5.361e-01\n",
      "  model = cd_fast.enet_coordinate_descent(\n"
     ]
    }
   ],
   "source": [
    "las = Lasso(random_state=0, alpha=1) \n",
    "las.fit(X_train, y_train)\n",
    "y_pred_las_tr = las.predict(X_train) \n",
    "r2_las_tr = r2_score(y_train, y_pred_las_tr)\n",
    "mse_las_tr = mean_squared_error(y_train,y_pred_las_tr)"
   ]
  },
  {
   "cell_type": "code",
   "execution_count": 255,
   "metadata": {},
   "outputs": [
    {
     "name": "stderr",
     "output_type": "stream",
     "text": [
      "/Users/696556/miniconda3/lib/python3.9/site-packages/sklearn/linear_model/_coordinate_descent.py:695: ConvergenceWarning: Objective did not converge. You might want to increase the number of iterations, check the scale of the features or consider increasing regularisation. Duality gap: 1.067e+03, tolerance: 5.361e-01\n",
      "  model = cd_fast.enet_coordinate_descent(\n"
     ]
    }
   ],
   "source": [
    "las.fit(X_train, y_train)\n",
    "y_pred_las = las.predict(X_test) \n",
    "r2_las = r2_score(y_test, y_pred_las)\n",
    "mse_las = mean_squared_error(y_test,y_pred_las)"
   ]
  },
  {
   "cell_type": "code",
   "execution_count": 256,
   "metadata": {},
   "outputs": [
    {
     "name": "stderr",
     "output_type": "stream",
     "text": [
      "/Users/696556/miniconda3/lib/python3.9/site-packages/sklearn/linear_model/_coordinate_descent.py:695: ConvergenceWarning: Objective did not converge. You might want to increase the number of iterations, check the scale of the features or consider increasing regularisation. Duality gap: 2.441e+03, tolerance: 5.361e-01\n",
      "  model = cd_fast.enet_coordinate_descent(\n"
     ]
    }
   ],
   "source": [
    "las.fit(X3_train,y3_train)\n",
    "y3_pred_las = las.predict(X3_test)\n",
    "r2_las3 = r2_score(y3_test, y3_pred_las)\n",
    "mse_las3 = mean_squared_error(y3_test,y3_pred_las)"
   ]
  },
  {
   "cell_type": "code",
   "execution_count": 257,
   "metadata": {},
   "outputs": [],
   "source": [
    "las.fit(X4_train,y4_train)\n",
    "y4_pred_las = las.predict(X4_test)\n",
    "r2_las4 = r2_score(y4_test, y4_pred_las)\n",
    "mse_las4 = mean_squared_error(y_train,y_pred_las_tr)"
   ]
  },
  {
   "cell_type": "markdown",
   "metadata": {},
   "source": [
    "### Multi-layer Perceptron "
   ]
  },
  {
   "cell_type": "code",
   "execution_count": 291,
   "metadata": {},
   "outputs": [
    {
     "data": {
      "text/plain": [
       "-7.615018456940664e+16"
      ]
     },
     "execution_count": 291,
     "metadata": {},
     "output_type": "execute_result"
    }
   ],
   "source": [
    "mlp = MLPRegressor(random_state=0,learning_rate='adaptive')\n",
    "mlp.fit(X_train,y_train)\n",
    "y_pred_mlp = mlp.predict(X_test)\n",
    "r2_mlp = r2_score(y_test, y_pred_mlp)\n",
    "mse_mlp = mean_squared_error(y_test,y_pred_mlp)\n",
    "\n"
   ]
  },
  {
   "cell_type": "code",
   "execution_count": 259,
   "metadata": {},
   "outputs": [],
   "source": [
    "mlp.fit(X_train,y_train)\n",
    "y_pred_mlp_tr = mlp.predict(X_train)\n",
    "r2_mlp_tr = r2_score(y_train, y_pred_mlp_tr)\n",
    "mse_mlp_tr = mean_squared_error(y_train,y_pred_mlp_tr)"
   ]
  },
  {
   "cell_type": "markdown",
   "metadata": {},
   "source": [
    "### Hyper Paramter tuning for Random Forest"
   ]
  },
  {
   "cell_type": "code",
   "execution_count": 285,
   "metadata": {},
   "outputs": [
    {
     "name": "stderr",
     "output_type": "stream",
     "text": [
      "/Users/696556/miniconda3/lib/python3.9/site-packages/skopt/optimizer/optimizer.py:517: UserWarning: The objective has been evaluated at point [7, 30, 2, 2] before, using random point [15, 50, 5, 8]\n",
      "  warnings.warn(\n",
      "/Users/696556/miniconda3/lib/python3.9/site-packages/skopt/optimizer/optimizer.py:517: UserWarning: The objective has been evaluated at point [7, 30, 2, 8] before, using random point [15, 60, 10, 4]\n",
      "  warnings.warn(\n",
      "/Users/696556/miniconda3/lib/python3.9/site-packages/skopt/optimizer/optimizer.py:517: UserWarning: The objective has been evaluated at point [7, 30, 2, 8] before, using random point [5, 10, 15, 2]\n",
      "  warnings.warn(\n",
      "/Users/696556/miniconda3/lib/python3.9/site-packages/skopt/optimizer/optimizer.py:517: UserWarning: The objective has been evaluated at point [7, 30, 2, 8] before, using random point [7, 60, 10, 6]\n",
      "  warnings.warn(\n"
     ]
    },
    {
     "name": "stdout",
     "output_type": "stream",
     "text": [
      "OrderedDict([('max_depth', 7), ('max_features', 50), ('max_leaf_nodes', 2), ('min_samples_split', 8)])\n",
      "0.09566912332563449\n"
     ]
    }
   ],
   "source": [
    "param_grid = {'max_features':[10,30,50,60,80,120],\n",
    "              'max_leaf_nodes':[2,5,10,15,20],\n",
    "              'max_depth':[5,7,10,15],\n",
    "              'min_samples_split':[2,4,6,8]\n",
    "              }  \n",
    "   \n",
    "grid = BayesSearchCV(RandomForestRegressor(), param_grid, cv=5,scoring='r2') \n",
    "   \n",
    "grid.fit(X_train, y_train) \n",
    " \n",
    "\n",
    "print(grid.best_params_) \n",
    "grid_predictions = grid.predict(X_test) \n",
    "   \n",
    "\n",
    "print(r2_score(y_test, grid_predictions)) "
   ]
  },
  {
   "cell_type": "code",
   "execution_count": 286,
   "metadata": {},
   "outputs": [
    {
     "name": "stdout",
     "output_type": "stream",
     "text": [
      "0.2800099099703791\n"
     ]
    }
   ],
   "source": [
    "grid_predictions = grid.predict(X_train) \n",
    "   \n",
    "\n",
    "print(r2_score(y_train, grid_predictions)) "
   ]
  },
  {
   "cell_type": "markdown",
   "metadata": {},
   "source": [
    "### Hyper Paramter tuning for XG Boost"
   ]
  },
  {
   "cell_type": "code",
   "execution_count": 282,
   "metadata": {},
   "outputs": [
    {
     "data": {
      "text/html": [
       "<style>#sk-container-id-8 {\n",
       "  /* Definition of color scheme common for light and dark mode */\n",
       "  --sklearn-color-text: #000;\n",
       "  --sklearn-color-text-muted: #666;\n",
       "  --sklearn-color-line: gray;\n",
       "  /* Definition of color scheme for unfitted estimators */\n",
       "  --sklearn-color-unfitted-level-0: #fff5e6;\n",
       "  --sklearn-color-unfitted-level-1: #f6e4d2;\n",
       "  --sklearn-color-unfitted-level-2: #ffe0b3;\n",
       "  --sklearn-color-unfitted-level-3: chocolate;\n",
       "  /* Definition of color scheme for fitted estimators */\n",
       "  --sklearn-color-fitted-level-0: #f0f8ff;\n",
       "  --sklearn-color-fitted-level-1: #d4ebff;\n",
       "  --sklearn-color-fitted-level-2: #b3dbfd;\n",
       "  --sklearn-color-fitted-level-3: cornflowerblue;\n",
       "\n",
       "  /* Specific color for light theme */\n",
       "  --sklearn-color-text-on-default-background: var(--sg-text-color, var(--theme-code-foreground, var(--jp-content-font-color1, black)));\n",
       "  --sklearn-color-background: var(--sg-background-color, var(--theme-background, var(--jp-layout-color0, white)));\n",
       "  --sklearn-color-border-box: var(--sg-text-color, var(--theme-code-foreground, var(--jp-content-font-color1, black)));\n",
       "  --sklearn-color-icon: #696969;\n",
       "\n",
       "  @media (prefers-color-scheme: dark) {\n",
       "    /* Redefinition of color scheme for dark theme */\n",
       "    --sklearn-color-text-on-default-background: var(--sg-text-color, var(--theme-code-foreground, var(--jp-content-font-color1, white)));\n",
       "    --sklearn-color-background: var(--sg-background-color, var(--theme-background, var(--jp-layout-color0, #111)));\n",
       "    --sklearn-color-border-box: var(--sg-text-color, var(--theme-code-foreground, var(--jp-content-font-color1, white)));\n",
       "    --sklearn-color-icon: #878787;\n",
       "  }\n",
       "}\n",
       "\n",
       "#sk-container-id-8 {\n",
       "  color: var(--sklearn-color-text);\n",
       "}\n",
       "\n",
       "#sk-container-id-8 pre {\n",
       "  padding: 0;\n",
       "}\n",
       "\n",
       "#sk-container-id-8 input.sk-hidden--visually {\n",
       "  border: 0;\n",
       "  clip: rect(1px 1px 1px 1px);\n",
       "  clip: rect(1px, 1px, 1px, 1px);\n",
       "  height: 1px;\n",
       "  margin: -1px;\n",
       "  overflow: hidden;\n",
       "  padding: 0;\n",
       "  position: absolute;\n",
       "  width: 1px;\n",
       "}\n",
       "\n",
       "#sk-container-id-8 div.sk-dashed-wrapped {\n",
       "  border: 1px dashed var(--sklearn-color-line);\n",
       "  margin: 0 0.4em 0.5em 0.4em;\n",
       "  box-sizing: border-box;\n",
       "  padding-bottom: 0.4em;\n",
       "  background-color: var(--sklearn-color-background);\n",
       "}\n",
       "\n",
       "#sk-container-id-8 div.sk-container {\n",
       "  /* jupyter's `normalize.less` sets `[hidden] { display: none; }`\n",
       "     but bootstrap.min.css set `[hidden] { display: none !important; }`\n",
       "     so we also need the `!important` here to be able to override the\n",
       "     default hidden behavior on the sphinx rendered scikit-learn.org.\n",
       "     See: https://github.com/scikit-learn/scikit-learn/issues/21755 */\n",
       "  display: inline-block !important;\n",
       "  position: relative;\n",
       "}\n",
       "\n",
       "#sk-container-id-8 div.sk-text-repr-fallback {\n",
       "  display: none;\n",
       "}\n",
       "\n",
       "div.sk-parallel-item,\n",
       "div.sk-serial,\n",
       "div.sk-item {\n",
       "  /* draw centered vertical line to link estimators */\n",
       "  background-image: linear-gradient(var(--sklearn-color-text-on-default-background), var(--sklearn-color-text-on-default-background));\n",
       "  background-size: 2px 100%;\n",
       "  background-repeat: no-repeat;\n",
       "  background-position: center center;\n",
       "}\n",
       "\n",
       "/* Parallel-specific style estimator block */\n",
       "\n",
       "#sk-container-id-8 div.sk-parallel-item::after {\n",
       "  content: \"\";\n",
       "  width: 100%;\n",
       "  border-bottom: 2px solid var(--sklearn-color-text-on-default-background);\n",
       "  flex-grow: 1;\n",
       "}\n",
       "\n",
       "#sk-container-id-8 div.sk-parallel {\n",
       "  display: flex;\n",
       "  align-items: stretch;\n",
       "  justify-content: center;\n",
       "  background-color: var(--sklearn-color-background);\n",
       "  position: relative;\n",
       "}\n",
       "\n",
       "#sk-container-id-8 div.sk-parallel-item {\n",
       "  display: flex;\n",
       "  flex-direction: column;\n",
       "}\n",
       "\n",
       "#sk-container-id-8 div.sk-parallel-item:first-child::after {\n",
       "  align-self: flex-end;\n",
       "  width: 50%;\n",
       "}\n",
       "\n",
       "#sk-container-id-8 div.sk-parallel-item:last-child::after {\n",
       "  align-self: flex-start;\n",
       "  width: 50%;\n",
       "}\n",
       "\n",
       "#sk-container-id-8 div.sk-parallel-item:only-child::after {\n",
       "  width: 0;\n",
       "}\n",
       "\n",
       "/* Serial-specific style estimator block */\n",
       "\n",
       "#sk-container-id-8 div.sk-serial {\n",
       "  display: flex;\n",
       "  flex-direction: column;\n",
       "  align-items: center;\n",
       "  background-color: var(--sklearn-color-background);\n",
       "  padding-right: 1em;\n",
       "  padding-left: 1em;\n",
       "}\n",
       "\n",
       "\n",
       "/* Toggleable style: style used for estimator/Pipeline/ColumnTransformer box that is\n",
       "clickable and can be expanded/collapsed.\n",
       "- Pipeline and ColumnTransformer use this feature and define the default style\n",
       "- Estimators will overwrite some part of the style using the `sk-estimator` class\n",
       "*/\n",
       "\n",
       "/* Pipeline and ColumnTransformer style (default) */\n",
       "\n",
       "#sk-container-id-8 div.sk-toggleable {\n",
       "  /* Default theme specific background. It is overwritten whether we have a\n",
       "  specific estimator or a Pipeline/ColumnTransformer */\n",
       "  background-color: var(--sklearn-color-background);\n",
       "}\n",
       "\n",
       "/* Toggleable label */\n",
       "#sk-container-id-8 label.sk-toggleable__label {\n",
       "  cursor: pointer;\n",
       "  display: flex;\n",
       "  width: 100%;\n",
       "  margin-bottom: 0;\n",
       "  padding: 0.5em;\n",
       "  box-sizing: border-box;\n",
       "  text-align: center;\n",
       "  align-items: start;\n",
       "  justify-content: space-between;\n",
       "  gap: 0.5em;\n",
       "}\n",
       "\n",
       "#sk-container-id-8 label.sk-toggleable__label .caption {\n",
       "  font-size: 0.6rem;\n",
       "  font-weight: lighter;\n",
       "  color: var(--sklearn-color-text-muted);\n",
       "}\n",
       "\n",
       "#sk-container-id-8 label.sk-toggleable__label-arrow:before {\n",
       "  /* Arrow on the left of the label */\n",
       "  content: \"▸\";\n",
       "  float: left;\n",
       "  margin-right: 0.25em;\n",
       "  color: var(--sklearn-color-icon);\n",
       "}\n",
       "\n",
       "#sk-container-id-8 label.sk-toggleable__label-arrow:hover:before {\n",
       "  color: var(--sklearn-color-text);\n",
       "}\n",
       "\n",
       "/* Toggleable content - dropdown */\n",
       "\n",
       "#sk-container-id-8 div.sk-toggleable__content {\n",
       "  max-height: 0;\n",
       "  max-width: 0;\n",
       "  overflow: hidden;\n",
       "  text-align: left;\n",
       "  /* unfitted */\n",
       "  background-color: var(--sklearn-color-unfitted-level-0);\n",
       "}\n",
       "\n",
       "#sk-container-id-8 div.sk-toggleable__content.fitted {\n",
       "  /* fitted */\n",
       "  background-color: var(--sklearn-color-fitted-level-0);\n",
       "}\n",
       "\n",
       "#sk-container-id-8 div.sk-toggleable__content pre {\n",
       "  margin: 0.2em;\n",
       "  border-radius: 0.25em;\n",
       "  color: var(--sklearn-color-text);\n",
       "  /* unfitted */\n",
       "  background-color: var(--sklearn-color-unfitted-level-0);\n",
       "}\n",
       "\n",
       "#sk-container-id-8 div.sk-toggleable__content.fitted pre {\n",
       "  /* unfitted */\n",
       "  background-color: var(--sklearn-color-fitted-level-0);\n",
       "}\n",
       "\n",
       "#sk-container-id-8 input.sk-toggleable__control:checked~div.sk-toggleable__content {\n",
       "  /* Expand drop-down */\n",
       "  max-height: 200px;\n",
       "  max-width: 100%;\n",
       "  overflow: auto;\n",
       "}\n",
       "\n",
       "#sk-container-id-8 input.sk-toggleable__control:checked~label.sk-toggleable__label-arrow:before {\n",
       "  content: \"▾\";\n",
       "}\n",
       "\n",
       "/* Pipeline/ColumnTransformer-specific style */\n",
       "\n",
       "#sk-container-id-8 div.sk-label input.sk-toggleable__control:checked~label.sk-toggleable__label {\n",
       "  color: var(--sklearn-color-text);\n",
       "  background-color: var(--sklearn-color-unfitted-level-2);\n",
       "}\n",
       "\n",
       "#sk-container-id-8 div.sk-label.fitted input.sk-toggleable__control:checked~label.sk-toggleable__label {\n",
       "  background-color: var(--sklearn-color-fitted-level-2);\n",
       "}\n",
       "\n",
       "/* Estimator-specific style */\n",
       "\n",
       "/* Colorize estimator box */\n",
       "#sk-container-id-8 div.sk-estimator input.sk-toggleable__control:checked~label.sk-toggleable__label {\n",
       "  /* unfitted */\n",
       "  background-color: var(--sklearn-color-unfitted-level-2);\n",
       "}\n",
       "\n",
       "#sk-container-id-8 div.sk-estimator.fitted input.sk-toggleable__control:checked~label.sk-toggleable__label {\n",
       "  /* fitted */\n",
       "  background-color: var(--sklearn-color-fitted-level-2);\n",
       "}\n",
       "\n",
       "#sk-container-id-8 div.sk-label label.sk-toggleable__label,\n",
       "#sk-container-id-8 div.sk-label label {\n",
       "  /* The background is the default theme color */\n",
       "  color: var(--sklearn-color-text-on-default-background);\n",
       "}\n",
       "\n",
       "/* On hover, darken the color of the background */\n",
       "#sk-container-id-8 div.sk-label:hover label.sk-toggleable__label {\n",
       "  color: var(--sklearn-color-text);\n",
       "  background-color: var(--sklearn-color-unfitted-level-2);\n",
       "}\n",
       "\n",
       "/* Label box, darken color on hover, fitted */\n",
       "#sk-container-id-8 div.sk-label.fitted:hover label.sk-toggleable__label.fitted {\n",
       "  color: var(--sklearn-color-text);\n",
       "  background-color: var(--sklearn-color-fitted-level-2);\n",
       "}\n",
       "\n",
       "/* Estimator label */\n",
       "\n",
       "#sk-container-id-8 div.sk-label label {\n",
       "  font-family: monospace;\n",
       "  font-weight: bold;\n",
       "  display: inline-block;\n",
       "  line-height: 1.2em;\n",
       "}\n",
       "\n",
       "#sk-container-id-8 div.sk-label-container {\n",
       "  text-align: center;\n",
       "}\n",
       "\n",
       "/* Estimator-specific */\n",
       "#sk-container-id-8 div.sk-estimator {\n",
       "  font-family: monospace;\n",
       "  border: 1px dotted var(--sklearn-color-border-box);\n",
       "  border-radius: 0.25em;\n",
       "  box-sizing: border-box;\n",
       "  margin-bottom: 0.5em;\n",
       "  /* unfitted */\n",
       "  background-color: var(--sklearn-color-unfitted-level-0);\n",
       "}\n",
       "\n",
       "#sk-container-id-8 div.sk-estimator.fitted {\n",
       "  /* fitted */\n",
       "  background-color: var(--sklearn-color-fitted-level-0);\n",
       "}\n",
       "\n",
       "/* on hover */\n",
       "#sk-container-id-8 div.sk-estimator:hover {\n",
       "  /* unfitted */\n",
       "  background-color: var(--sklearn-color-unfitted-level-2);\n",
       "}\n",
       "\n",
       "#sk-container-id-8 div.sk-estimator.fitted:hover {\n",
       "  /* fitted */\n",
       "  background-color: var(--sklearn-color-fitted-level-2);\n",
       "}\n",
       "\n",
       "/* Specification for estimator info (e.g. \"i\" and \"?\") */\n",
       "\n",
       "/* Common style for \"i\" and \"?\" */\n",
       "\n",
       ".sk-estimator-doc-link,\n",
       "a:link.sk-estimator-doc-link,\n",
       "a:visited.sk-estimator-doc-link {\n",
       "  float: right;\n",
       "  font-size: smaller;\n",
       "  line-height: 1em;\n",
       "  font-family: monospace;\n",
       "  background-color: var(--sklearn-color-background);\n",
       "  border-radius: 1em;\n",
       "  height: 1em;\n",
       "  width: 1em;\n",
       "  text-decoration: none !important;\n",
       "  margin-left: 0.5em;\n",
       "  text-align: center;\n",
       "  /* unfitted */\n",
       "  border: var(--sklearn-color-unfitted-level-1) 1pt solid;\n",
       "  color: var(--sklearn-color-unfitted-level-1);\n",
       "}\n",
       "\n",
       ".sk-estimator-doc-link.fitted,\n",
       "a:link.sk-estimator-doc-link.fitted,\n",
       "a:visited.sk-estimator-doc-link.fitted {\n",
       "  /* fitted */\n",
       "  border: var(--sklearn-color-fitted-level-1) 1pt solid;\n",
       "  color: var(--sklearn-color-fitted-level-1);\n",
       "}\n",
       "\n",
       "/* On hover */\n",
       "div.sk-estimator:hover .sk-estimator-doc-link:hover,\n",
       ".sk-estimator-doc-link:hover,\n",
       "div.sk-label-container:hover .sk-estimator-doc-link:hover,\n",
       ".sk-estimator-doc-link:hover {\n",
       "  /* unfitted */\n",
       "  background-color: var(--sklearn-color-unfitted-level-3);\n",
       "  color: var(--sklearn-color-background);\n",
       "  text-decoration: none;\n",
       "}\n",
       "\n",
       "div.sk-estimator.fitted:hover .sk-estimator-doc-link.fitted:hover,\n",
       ".sk-estimator-doc-link.fitted:hover,\n",
       "div.sk-label-container:hover .sk-estimator-doc-link.fitted:hover,\n",
       ".sk-estimator-doc-link.fitted:hover {\n",
       "  /* fitted */\n",
       "  background-color: var(--sklearn-color-fitted-level-3);\n",
       "  color: var(--sklearn-color-background);\n",
       "  text-decoration: none;\n",
       "}\n",
       "\n",
       "/* Span, style for the box shown on hovering the info icon */\n",
       ".sk-estimator-doc-link span {\n",
       "  display: none;\n",
       "  z-index: 9999;\n",
       "  position: relative;\n",
       "  font-weight: normal;\n",
       "  right: .2ex;\n",
       "  padding: .5ex;\n",
       "  margin: .5ex;\n",
       "  width: min-content;\n",
       "  min-width: 20ex;\n",
       "  max-width: 50ex;\n",
       "  color: var(--sklearn-color-text);\n",
       "  box-shadow: 2pt 2pt 4pt #999;\n",
       "  /* unfitted */\n",
       "  background: var(--sklearn-color-unfitted-level-0);\n",
       "  border: .5pt solid var(--sklearn-color-unfitted-level-3);\n",
       "}\n",
       "\n",
       ".sk-estimator-doc-link.fitted span {\n",
       "  /* fitted */\n",
       "  background: var(--sklearn-color-fitted-level-0);\n",
       "  border: var(--sklearn-color-fitted-level-3);\n",
       "}\n",
       "\n",
       ".sk-estimator-doc-link:hover span {\n",
       "  display: block;\n",
       "}\n",
       "\n",
       "/* \"?\"-specific style due to the `<a>` HTML tag */\n",
       "\n",
       "#sk-container-id-8 a.estimator_doc_link {\n",
       "  float: right;\n",
       "  font-size: 1rem;\n",
       "  line-height: 1em;\n",
       "  font-family: monospace;\n",
       "  background-color: var(--sklearn-color-background);\n",
       "  border-radius: 1rem;\n",
       "  height: 1rem;\n",
       "  width: 1rem;\n",
       "  text-decoration: none;\n",
       "  /* unfitted */\n",
       "  color: var(--sklearn-color-unfitted-level-1);\n",
       "  border: var(--sklearn-color-unfitted-level-1) 1pt solid;\n",
       "}\n",
       "\n",
       "#sk-container-id-8 a.estimator_doc_link.fitted {\n",
       "  /* fitted */\n",
       "  border: var(--sklearn-color-fitted-level-1) 1pt solid;\n",
       "  color: var(--sklearn-color-fitted-level-1);\n",
       "}\n",
       "\n",
       "/* On hover */\n",
       "#sk-container-id-8 a.estimator_doc_link:hover {\n",
       "  /* unfitted */\n",
       "  background-color: var(--sklearn-color-unfitted-level-3);\n",
       "  color: var(--sklearn-color-background);\n",
       "  text-decoration: none;\n",
       "}\n",
       "\n",
       "#sk-container-id-8 a.estimator_doc_link.fitted:hover {\n",
       "  /* fitted */\n",
       "  background-color: var(--sklearn-color-fitted-level-3);\n",
       "}\n",
       "</style><div id=\"sk-container-id-8\" class=\"sk-top-container\"><div class=\"sk-text-repr-fallback\"><pre>BayesSearchCV(cv=5,\n",
       "              estimator=XGBRegressor(base_score=None, booster=None,\n",
       "                                     callbacks=None, colsample_bylevel=None,\n",
       "                                     colsample_bynode=None,\n",
       "                                     colsample_bytree=None, device=None,\n",
       "                                     early_stopping_rounds=None,\n",
       "                                     enable_categorical=False, eval_metric=None,\n",
       "                                     feature_types=None, gamma=None,\n",
       "                                     grow_policy=None, importance_type=None,\n",
       "                                     interaction_constraints=None,\n",
       "                                     learning_rate=None,...\n",
       "                                     max_leaves=None, min_child_weight=None,\n",
       "                                     missing=nan, monotone_constraints=None,\n",
       "                                     multi_strategy=None, n_estimators=None,\n",
       "                                     n_jobs=None, num_parallel_tree=None,\n",
       "                                     random_state=None, ...),\n",
       "              scoring=&#x27;r2&#x27;,\n",
       "              search_spaces={&#x27;colsample_bytree&#x27;: [0.1, 0.3, 0.5, 0.7],\n",
       "                             &#x27;eta&#x27;: [0.3], &#x27;gamma&#x27;: [220],\n",
       "                             &#x27;max_delta_step&#x27;: [1, 2, 10, 100],\n",
       "                             &#x27;max_depth&#x27;: [1, 3, 5, 7],\n",
       "                             &#x27;min_child_weight&#x27;: [3, 5, 9, 10],\n",
       "                             &#x27;subsample&#x27;: [0.1, 0.3, 0.5, 0.7, 1]})</pre><b>In a Jupyter environment, please rerun this cell to show the HTML representation or trust the notebook. <br />On GitHub, the HTML representation is unable to render, please try loading this page with nbviewer.org.</b></div><div class=\"sk-container\" hidden><div class=\"sk-item sk-dashed-wrapped\"><div class=\"sk-label-container\"><div class=\"sk-label fitted sk-toggleable\"><input class=\"sk-toggleable__control sk-hidden--visually\" id=\"sk-estimator-id-22\" type=\"checkbox\" ><label for=\"sk-estimator-id-22\" class=\"sk-toggleable__label fitted sk-toggleable__label-arrow\"><div><div>BayesSearchCV</div></div><div><span class=\"sk-estimator-doc-link fitted\">i<span>Fitted</span></span></div></label><div class=\"sk-toggleable__content fitted\"><pre>BayesSearchCV(cv=5,\n",
       "              estimator=XGBRegressor(base_score=None, booster=None,\n",
       "                                     callbacks=None, colsample_bylevel=None,\n",
       "                                     colsample_bynode=None,\n",
       "                                     colsample_bytree=None, device=None,\n",
       "                                     early_stopping_rounds=None,\n",
       "                                     enable_categorical=False, eval_metric=None,\n",
       "                                     feature_types=None, gamma=None,\n",
       "                                     grow_policy=None, importance_type=None,\n",
       "                                     interaction_constraints=None,\n",
       "                                     learning_rate=None,...\n",
       "                                     max_leaves=None, min_child_weight=None,\n",
       "                                     missing=nan, monotone_constraints=None,\n",
       "                                     multi_strategy=None, n_estimators=None,\n",
       "                                     n_jobs=None, num_parallel_tree=None,\n",
       "                                     random_state=None, ...),\n",
       "              scoring=&#x27;r2&#x27;,\n",
       "              search_spaces={&#x27;colsample_bytree&#x27;: [0.1, 0.3, 0.5, 0.7],\n",
       "                             &#x27;eta&#x27;: [0.3], &#x27;gamma&#x27;: [220],\n",
       "                             &#x27;max_delta_step&#x27;: [1, 2, 10, 100],\n",
       "                             &#x27;max_depth&#x27;: [1, 3, 5, 7],\n",
       "                             &#x27;min_child_weight&#x27;: [3, 5, 9, 10],\n",
       "                             &#x27;subsample&#x27;: [0.1, 0.3, 0.5, 0.7, 1]})</pre></div> </div></div><div class=\"sk-parallel\"><div class=\"sk-parallel-item\"><div class=\"sk-item\"><div class=\"sk-label-container\"><div class=\"sk-label fitted sk-toggleable\"><input class=\"sk-toggleable__control sk-hidden--visually\" id=\"sk-estimator-id-23\" type=\"checkbox\" ><label for=\"sk-estimator-id-23\" class=\"sk-toggleable__label fitted sk-toggleable__label-arrow\"><div><div>best_estimator_: XGBRegressor</div></div></label><div class=\"sk-toggleable__content fitted\"><pre>XGBRegressor(base_score=None, booster=None, callbacks=None,\n",
       "             colsample_bylevel=None, colsample_bynode=None,\n",
       "             colsample_bytree=0.1, device=None, early_stopping_rounds=None,\n",
       "             enable_categorical=False, eta=0.3, eval_metric=None,\n",
       "             feature_types=None, gamma=220, grow_policy=None,\n",
       "             importance_type=None, interaction_constraints=None,\n",
       "             learning_rate=None, max_bin=None, max_cat_threshold=None,\n",
       "             max_cat_to_onehot=None, max_delta_step=2, max_depth=1,\n",
       "             max_leaves=None, min_child_weight=10, missing=nan,\n",
       "             monotone_constraints=None, multi_strategy=None, n_estimators=None,\n",
       "             n_jobs=None, num_parallel_tree=None, ...)</pre></div> </div></div><div class=\"sk-serial\"><div class=\"sk-item\"><div class=\"sk-estimator fitted sk-toggleable\"><input class=\"sk-toggleable__control sk-hidden--visually\" id=\"sk-estimator-id-24\" type=\"checkbox\" ><label for=\"sk-estimator-id-24\" class=\"sk-toggleable__label fitted sk-toggleable__label-arrow\"><div><div>XGBRegressor</div></div></label><div class=\"sk-toggleable__content fitted\"><pre>XGBRegressor(base_score=None, booster=None, callbacks=None,\n",
       "             colsample_bylevel=None, colsample_bynode=None,\n",
       "             colsample_bytree=0.1, device=None, early_stopping_rounds=None,\n",
       "             enable_categorical=False, eta=0.3, eval_metric=None,\n",
       "             feature_types=None, gamma=220, grow_policy=None,\n",
       "             importance_type=None, interaction_constraints=None,\n",
       "             learning_rate=None, max_bin=None, max_cat_threshold=None,\n",
       "             max_cat_to_onehot=None, max_delta_step=2, max_depth=1,\n",
       "             max_leaves=None, min_child_weight=10, missing=nan,\n",
       "             monotone_constraints=None, multi_strategy=None, n_estimators=None,\n",
       "             n_jobs=None, num_parallel_tree=None, ...)</pre></div> </div></div></div></div></div></div></div></div></div>"
      ],
      "text/plain": [
       "BayesSearchCV(cv=5,\n",
       "              estimator=XGBRegressor(base_score=None, booster=None,\n",
       "                                     callbacks=None, colsample_bylevel=None,\n",
       "                                     colsample_bynode=None,\n",
       "                                     colsample_bytree=None, device=None,\n",
       "                                     early_stopping_rounds=None,\n",
       "                                     enable_categorical=False, eval_metric=None,\n",
       "                                     feature_types=None, gamma=None,\n",
       "                                     grow_policy=None, importance_type=None,\n",
       "                                     interaction_constraints=None,\n",
       "                                     learning_rate=None,...\n",
       "                                     max_leaves=None, min_child_weight=None,\n",
       "                                     missing=nan, monotone_constraints=None,\n",
       "                                     multi_strategy=None, n_estimators=None,\n",
       "                                     n_jobs=None, num_parallel_tree=None,\n",
       "                                     random_state=None, ...),\n",
       "              scoring='r2',\n",
       "              search_spaces={'colsample_bytree': [0.1, 0.3, 0.5, 0.7],\n",
       "                             'eta': [0.3], 'gamma': [220],\n",
       "                             'max_delta_step': [1, 2, 10, 100],\n",
       "                             'max_depth': [1, 3, 5, 7],\n",
       "                             'min_child_weight': [3, 5, 9, 10],\n",
       "                             'subsample': [0.1, 0.3, 0.5, 0.7, 1]})"
      ]
     },
     "execution_count": 282,
     "metadata": {},
     "output_type": "execute_result"
    }
   ],
   "source": [
    "param_grid = {'eta':[0.3],\n",
    "              'gamma':[220],\n",
    "              'max_depth':[1,3,5,7],\n",
    "              'colsample_bytree':[0.1,0.3,0.5,0.7],\n",
    "              'min_child_weight':[3,5,9,10],\n",
    "              'subsample':[0.1,0.3,0.5,0.7,1],\n",
    "              'max_delta_step':[1,2,10,100]\n",
    "              }  \n",
    "   \n",
    "grid = BayesSearchCV(xgb.XGBRegressor(), param_grid, cv=5,scoring='r2') \n",
    "   \n",
    "grid.fit(X_train, y_train) \n"
   ]
  },
  {
   "cell_type": "code",
   "execution_count": 284,
   "metadata": {},
   "outputs": [
    {
     "name": "stdout",
     "output_type": "stream",
     "text": [
      "OrderedDict([('colsample_bytree', 0.1), ('eta', 0.3), ('gamma', 220), ('max_delta_step', 2), ('max_depth', 1), ('min_child_weight', 10), ('subsample', 0.1)])\n",
      "-0.010327163708562459\n"
     ]
    }
   ],
   "source": [
    "print(grid.best_params_)\n",
    "grid_predictions = grid.predict(X_train) \n",
    "   \n",
    "\n",
    "print(r2_score(y_train, grid_predictions)) "
   ]
  },
  {
   "cell_type": "code",
   "execution_count": 280,
   "metadata": {},
   "outputs": [
    {
     "name": "stdout",
     "output_type": "stream",
     "text": [
      "0.27381469683844983\n"
     ]
    }
   ],
   "source": [
    "grid_predictions = grid.predict(X_train) \n",
    "   \n",
    "\n",
    "print(r2_score(y_train, grid_predictions)) "
   ]
  },
  {
   "cell_type": "markdown",
   "metadata": {},
   "source": [
    "### Evaluation"
   ]
  },
  {
   "cell_type": "markdown",
   "metadata": {},
   "source": [
    "R2 Evaluation"
   ]
  },
  {
   "cell_type": "code",
   "execution_count": 263,
   "metadata": {},
   "outputs": [
    {
     "name": "stdout",
     "output_type": "stream",
     "text": [
      "R2 Evaluation\n",
      "\n",
      "Decision Tree - Train:  1.0\n",
      "Decision Tree - Test:  -0.49702566159305017\n",
      "Decision Tree - Test - Standardise:  -0.49702566159305017\n",
      "Decision Tree - Reduced Features:  -0.4050750865370396\n",
      "Decision Tree - PCA:  -0.16403798329265817\n",
      "\n",
      "Random Forest - Train:  0.8399463839418592\n",
      "Random Forest - Test:  0.2859000751004338\n",
      "Random Forest - Test - PCA:  0.13297649489524366\n",
      "\n",
      "Hist Gradient - Train:  0.5387330592950524\n",
      "Hist Gradient - Test:  0.1405108427411852\n",
      "\n",
      "XG Boost - Train:  0.9999999974681768\n",
      "XG Boost - Test:  0.4197243532863184\n",
      "XG Boost - Test - Standardise:  0.4197243532863184\n",
      "XG Boost - Test - Reduced Features:  -0.1205934183261348\n",
      "XG Boost - Test - PCA:  -0.05594907064242416\n",
      "\n",
      "Linear Regression - Train:  1.0\n",
      "Linear Regression - Test:  -37688.33020725242\n",
      "Linear Regression - Test - Reduced Features:  -35.140416833629246\n",
      "Linear Regression - Test - PCA:  -0.5891138003514715\n",
      "\n",
      "Lasso - Train:  0.7073176005685866\n",
      "Lasso - Test:  -14.229649868865751\n",
      "Lasso - Test - Reduced Features:  -0.8362069419634606\n",
      "Lasso - Test - PCA:  -0.010078530494283866\n",
      "\n",
      "Ridge - Train:  0.3626902544354542\n",
      "Ridge - Test:  -198.1443536619085\n",
      "Ridge - Test - Reduced Features:  -31.004607959115795\n",
      "Ridge - Test - PCA:  -0.5874730291349777\n",
      "\n",
      "MLP Resgressor - Train:  -3.0002218007074296e+16\n",
      "MLP Resgressor - Test:  -7.615018457210202e+16\n"
     ]
    }
   ],
   "source": [
    "print('R2 Evaluation')\n",
    "print('')\n",
    "print('Decision Tree - Train: ', r2_dtr_tr)\n",
    "print('Decision Tree - Test: ', r2_dtr)\n",
    "print('Decision Tree - Test - Standardise: ', r2_dtr2)\n",
    "print('Decision Tree - Reduced Features: ', r2_dtr3)\n",
    "print('Decision Tree - PCA: ', r2_dtr4)\n",
    "print('')\n",
    "print('Random Forest - Train: ', r2_rfr_tr)\n",
    "print('Random Forest - Test: ', r2_rfr)\n",
    "print('Random Forest - Test - PCA: ', r2_rfr4)\n",
    "print('')\n",
    "print('Hist Gradient - Train: ', r2_hist_b_tr)\n",
    "print('Hist Gradient - Test: ', r2_hist_b)\n",
    "print('')\n",
    "print('XG Boost - Train: ', r2_xg_b_tr)\n",
    "print('XG Boost - Test: ', r2_xg_b)\n",
    "print('XG Boost - Test - Standardise: ', r2_xg_b2)\n",
    "print('XG Boost - Test - Reduced Features: ', r2_xg_b3)\n",
    "print('XG Boost - Test - PCA: ', r2_xg_b4)\n",
    "print('')\n",
    "print('Linear Regression - Train: ', r2_lr_tr)\n",
    "print('Linear Regression - Test: ', r2_lr)\n",
    "print('Linear Regression - Test - Reduced Features: ', r2_lr3)\n",
    "print('Linear Regression - Test - PCA: ', r2_lr4)\n",
    "print('')\n",
    "print('Lasso - Train: ', r2_las_tr)\n",
    "print('Lasso - Test: ', r2_las)\n",
    "print('Lasso - Test - Reduced Features: ', r2_las3)\n",
    "print('Lasso - Test - PCA: ', r2_las4)\n",
    "print('')\n",
    "print('Ridge - Train: ', r2_rid_tr)\n",
    "print('Ridge - Test: ', r2_rid)\n",
    "print('Ridge - Test - Reduced Features: ', r2_rid3)\n",
    "print('Ridge - Test - PCA: ', r2_rid4)\n",
    "print('')\n",
    "print('MLP Resgressor - Train: ', r2_mlp_tr)\n",
    "print('MLP Resgressor - Test: ', r2_mlp)"
   ]
  },
  {
   "cell_type": "markdown",
   "metadata": {},
   "source": [
    "Mean Squared Error Evaluation"
   ]
  },
  {
   "cell_type": "code",
   "execution_count": 264,
   "metadata": {},
   "outputs": [
    {
     "name": "stdout",
     "output_type": "stream",
     "text": [
      "Mean Square Evaluation\n",
      "\n",
      "Decision Tree - Train:  0.0\n",
      "Decision Tree - Test:  174.89376536000003\n",
      "Decision Tree - Test - Standardise:  174.89376536000003\n",
      "Decision Tree - Reduced Features:  164.15140956\n",
      "Decision Tree - PCA:  135.9916474\n",
      "\n",
      "Random Forest - Train:  15.053253444084186\n",
      "Random Forest - Test:  83.42650891907607\n",
      "Random Forest - Test - PCA:  101.29218847326405\n",
      "\n",
      "Hist Gradient - Train:  43.382763444011275\n",
      "Hist Gradient - Test:  100.41196945089507\n",
      "\n",
      "XG Boost - Train:  2.3812130738707716e-07\n",
      "XG Boost - Test:  67.79215307002059\n",
      "XG Boost - Test - Standardise:  67.79215307002059\n",
      "XG Boost - Test - Reduced Features:  130.91612748984906\n",
      "XG Boost - Test - PCA:  123.36388996600188\n",
      "\n",
      "Linear Regression - Train:  2.7259167604930354e-15\n",
      "Linear Regression - Test:  4403150.221772635\n",
      "Linear Regression - Test - Reduced Features:  4222.194544739587\n",
      "Linear Regression - Test - PCA:  185.65219238343244\n",
      "\n",
      "Lasso - Train:  27.527165244822058\n",
      "Lasso - Test:  1779.2419188365416\n",
      "Lasso - Test - Reduced Features:  214.51946636533964\n",
      "Lasso - Test - PCA:  27.527165244822058\n",
      "\n",
      "Ridge - Train:  59.93982115894816\n",
      "Ridge - Test:  23265.53696150507\n",
      "Ridge - Test - Reduced Features:  3739.018333783232\n",
      "Ridge - Test - PCA:  185.46050518426875\n",
      "\n",
      "MLP Resgressor - Train:  2.8217481283340513e+18\n",
      "MLP Resgressor - Test:  8.896435682005235e+18\n"
     ]
    }
   ],
   "source": [
    "print('Mean Square Evaluation')\n",
    "print('')\n",
    "print('Decision Tree - Train: ', mse_dtr_tr)\n",
    "print('Decision Tree - Test: ', mse_dtr)\n",
    "print('Decision Tree - Test - Standardise: ', mse_dtr2)\n",
    "print('Decision Tree - Reduced Features: ', mse_dtr3)\n",
    "print('Decision Tree - PCA: ', mse_dtr4)\n",
    "print('')\n",
    "print('Random Forest - Train: ', mse_rfr_tr)\n",
    "print('Random Forest - Test: ', mse_rfr)\n",
    "print('Random Forest - Test - PCA: ', mse_rfr4)\n",
    "print('')\n",
    "print('Hist Gradient - Train: ', mse_hist_b_tr)\n",
    "print('Hist Gradient - Test: ', mse_hist_b)\n",
    "print('')\n",
    "print('XG Boost - Train: ', mse_xg_b_tr)\n",
    "print('XG Boost - Test: ', mse_xg_b)\n",
    "print('XG Boost - Test - Standardise: ', mse_xg_b2)\n",
    "print('XG Boost - Test - Reduced Features: ', mse_xg_b3)\n",
    "print('XG Boost - Test - PCA: ', mse_xg_b4)\n",
    "print('')\n",
    "print('Linear Regression - Train: ', mse_lr_tr)\n",
    "print('Linear Regression - Test: ', mse_lr)\n",
    "print('Linear Regression - Test - Reduced Features: ', mse_lr3)\n",
    "print('Linear Regression - Test - PCA: ', mse_lr4)\n",
    "print('')\n",
    "print('Lasso - Train: ', mse_las_tr)\n",
    "print('Lasso - Test: ', mse_las)\n",
    "print('Lasso - Test - Reduced Features: ', mse_las3)\n",
    "print('Lasso - Test - PCA: ', mse_las4)\n",
    "print('')\n",
    "print('Ridge - Train: ', mse_rid_tr)\n",
    "print('Ridge - Test: ', mse_rid)\n",
    "print('Ridge - Test - Reduced Features: ', mse_rid3)\n",
    "print('Ridge - Test - PCA: ', mse_rid4)\n",
    "print('')\n",
    "print('MLP Resgressor - Train: ', mse_mlp_tr)\n",
    "print('MLP Resgressor - Test: ', mse_mlp)"
   ]
  },
  {
   "cell_type": "markdown",
   "metadata": {},
   "source": [
    "Creating a dataframe for plotting models results."
   ]
  },
  {
   "cell_type": "code",
   "execution_count": 265,
   "metadata": {},
   "outputs": [],
   "source": [
    "predict = pd.DataFrame()\n",
    "predict['True Value'] = y_test\n",
    "predict['Decision Tree'] = y_pred_dtr\n",
    "predict['Random Forest'] = y_pred_rfr\n",
    "predict['Hist Gradient'] = y_pred_hist_b\n",
    "predict['XG Boost'] = y_pred_xg_b\n",
    "predict['MLP Regressor'] = y_pred_mlp"
   ]
  },
  {
   "cell_type": "markdown",
   "metadata": {},
   "source": [
    "Plotting the XG Boost results against actual true values."
   ]
  },
  {
   "cell_type": "code",
   "execution_count": 266,
   "metadata": {},
   "outputs": [
    {
     "data": {
      "image/png": "[encoded data removed]",
      "text/plain": [
       "<Figure size 432x288 with 1 Axes>"
      ]
     },
     "metadata": {
      "needs_background": "light"
     },
     "output_type": "display_data"
    }
   ],
   "source": [
    "sns.scatterplot(data=predict,x='True Value', y='XG Boost')\n",
    "pl.savefig('Plots/XG Boost_True Value.jpg')"
   ]
  },
  {
   "cell_type": "markdown",
   "metadata": {},
   "source": [
    "Looking for possible correlations between the features which were given higher importance by the models."
   ]
  },
  {
   "cell_type": "code",
   "execution_count": 267,
   "metadata": {},
   "outputs": [
    {
     "data": {
      "text/plain": [
       "<Axes: xlabel='Female share of employment in senior and middle management (%)', ylabel='Labor force participation rate, total (% of total population ages 15+) (national estimate)'>"
      ]
     },
     "execution_count": 267,
     "metadata": {},
     "output_type": "execute_result"
    },
    {
     "data": {
      "image/png": "[encoded data removed]",
      "text/plain": [
       "<Figure size 432x288 with 1 Axes>"
      ]
     },
     "metadata": {
      "needs_background": "light"
     },
     "output_type": "display_data"
    }
   ],
   "source": [
    "sns.scatterplot(data=df,x='Female share of employment in senior and middle management (%)', \n",
    "                y='Labor force participation rate, total (% of total population ages 15+) (national estimate)')\n"
   ]
  },
  {
   "cell_type": "code",
   "execution_count": 268,
   "metadata": {},
   "outputs": [
    {
     "data": {
      "image/png": "[encoded data removed]",
      "text/plain": [
       "<Figure size 432x288 with 1 Axes>"
      ]
     },
     "metadata": {
      "needs_background": "light"
     },
     "output_type": "display_data"
    }
   ],
   "source": [
    "sns.scatterplot(data=df,x='Female share of employment in senior and middle management (%)', \n",
    "                y='Number of infant deaths, male')\n",
    "# pl.xscale('log')\n",
    "pl.yscale('log')"
   ]
  }
 ],
 "metadata": {
  "kernelspec": {
   "display_name": "Python 3",
   "language": "python",
   "name": "python3"
  },
  "language_info": {
   "codemirror_mode": {
    "name": "ipython",
    "version": 3
   },
   "file_extension": ".py",
   "mimetype": "text/x-python",
   "name": "python",
   "nbconvert_exporter": "python",
   "pygments_lexer": "ipython3",
   "version": "3.9.11"
  }
 },
 "nbformat": 4,
 "nbformat_minor": 2
}
